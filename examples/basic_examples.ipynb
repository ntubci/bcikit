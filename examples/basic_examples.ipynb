{
 "metadata": {
  "language_info": {
   "codemirror_mode": {
    "name": "ipython",
    "version": 3
   },
   "file_extension": ".py",
   "mimetype": "text/x-python",
   "name": "python",
   "nbconvert_exporter": "python",
   "pygments_lexer": "ipython3",
   "version": "3.8.2-final"
  },
  "orig_nbformat": 2,
  "kernelspec": {
   "name": "python37364bit037674fd7f244d0593ae7f415688874f",
   "display_name": "Python 3.7.3 64-bit",
   "language": "python"
  }
 },
 "nbformat": 4,
 "nbformat_minor": 2,
 "cells": [
  {
   "cell_type": "code",
   "execution_count": 1,
   "metadata": {},
   "outputs": [
    {
     "output_type": "stream",
     "name": "stdout",
     "text": [
      "/Users/jingles/github/bcikit\n"
     ]
    }
   ],
   "source": [
    "%cd ../"
   ]
  },
  {
   "cell_type": "code",
   "execution_count": 2,
   "metadata": {},
   "outputs": [],
   "source": [
    "import numpy as np"
   ]
  },
  {
   "cell_type": "code",
   "execution_count": 3,
   "metadata": {},
   "outputs": [],
   "source": [
    "config = {\n",
    "  \"seed\": 12,\n",
    "  \"segment_config\": {\n",
    "    \"window_len\": 1,\n",
    "    \"shift_len\": 250,\n",
    "    \"sample_rate\": 250,\n",
    "  },\n",
    "  \"bandpass_config\": {\n",
    "      \"sample_rate\": 250,\n",
    "      \"lowcut\": 7,\n",
    "      \"highcut\": 70,\n",
    "      \"order\": 6\n",
    "  },\n",
    "  \"subject_ids\": {\n",
    "    \"low\": 1,\n",
    "    \"high\": 3\n",
    "  },\n",
    "  \"root\": \"_data/hsssvep\",\n",
    "  \"selected_channels\": ['PZ', 'PO5', 'PO3', 'POz', 'PO4', 'PO6', 'O1', 'Oz', 'O2', 'PO7', 'PO8'],\n",
    "  \"num_classes\": 40,\n",
    "  \"batchsize\": 64,\n",
    "}"
   ]
  },
  {
   "source": [
    "## Create preprocessing function"
   ],
   "cell_type": "markdown",
   "metadata": {}
  },
  {
   "cell_type": "code",
   "execution_count": 4,
   "metadata": {},
   "outputs": [],
   "source": [
    "from bcikit.transforms.channels import pick_channels\n",
    "from bcikit.transforms.segment_time import segment_data_time_domain\n",
    "from bcikit.transforms.bandpass import butter_bandpass_filter\n",
    "\n",
    "\n",
    "def preprocessing(data, targets, channel_names, sample_rate, selected_channels, segment_config, bandpass_config, verbose, **kwargs):\n",
    "    print()\n",
    "    print(\"preprocessing data shape\", data.shape) # (subject,session,trial,channel,time)\n",
    "\n",
    "    # filter channels\n",
    "    data = pick_channels(\n",
    "        data=data, \n",
    "        channel_names=channel_names, \n",
    "        selected_channels=selected_channels,\n",
    "        verbose=False\n",
    "    )\n",
    "    print(\"after pick_channels\", data.shape)\n",
    "\n",
    "    # segment signal and select the first segment\n",
    "    data = segment_data_time_domain(\n",
    "        data=data,\n",
    "        window_len=segment_config['window_len'],\n",
    "        shift_len=segment_config['shift_len'],\n",
    "        sample_rate=segment_config['sample_rate'],\n",
    "        add_segment_axis=True,\n",
    "    )\n",
    "    data = data[:, :, :, :, 0, :] # select the first segment, and remove the rest\n",
    "    print(\"after segment_data_time_domain\", data.shape)\n",
    "\n",
    "    # bandpass filter\n",
    "    data = butter_bandpass_filter(\n",
    "        signal=data, \n",
    "        lowcut=bandpass_config[\"lowcut\"], \n",
    "        highcut=bandpass_config[\"highcut\"], \n",
    "        sample_rate=bandpass_config[\"sample_rate\"], \n",
    "        order=bandpass_config[\"order\"]\n",
    "    )\n",
    "    print(\"after butter_bandpass_filter\", data.shape)\n",
    "\n",
    "    # since we are doing leave one subject out, we don't care about `session`, we only want data in this format (subject, trial, channel, time).\n",
    "    data = data.reshape((data.shape[0], data.shape[1]*data.shape[2], data.shape[3], data.shape[4]))\n",
    "    targets = targets.reshape((targets.shape[0], targets.shape[1]*targets.shape[2]))\n",
    "\n",
    "    return data, targets"
   ]
  },
  {
   "source": [
    "## Load data"
   ],
   "cell_type": "markdown",
   "metadata": {}
  },
  {
   "cell_type": "code",
   "execution_count": 5,
   "metadata": {},
   "outputs": [
    {
     "output_type": "stream",
     "name": "stdout",
     "text": [
      "Load subject IDs [1, 2, 3]\n",
      "Load subject: 1\n",
      "Load subject: 2\n",
      "Load subject: 3\n",
      "\n",
      "preprocessing data shape (3, 1, 240, 64, 1000)\n",
      "after pick_channels (3, 1, 240, 11, 1000)\n",
      "after segment_data_time_domain (3, 1, 240, 11, 250)\n",
      "after butter_bandpass_filter (3, 1, 240, 11, 250)\n",
      "Final data shape (3, 240, 11, 250)\n",
      "\n",
      "train_loader:\n",
      "(320, 11, 250)\n",
      "(320,)\n",
      "val_loader:\n",
      "(160, 11, 250)\n",
      "(160,)\n",
      "test_loader:\n",
      "(240, 11, 250)\n",
      "(240,)\n"
     ]
    }
   ],
   "source": [
    "from bcikit.datasets.ssvep import HSSSVEP\n",
    "from bcikit.datasets import EEGDataloader\n",
    "from bcikit.datasets.data_selection_methods import leave_one_subject_out\n",
    "\n",
    "\n",
    "subject_ids = list(np.arange(config['subject_ids']['low'], config['subject_ids']['high']+1, dtype=int))\n",
    "print(\"Load subject IDs\", subject_ids)\n",
    "\n",
    "data = EEGDataloader(\n",
    "    dataset=HSSSVEP, \n",
    "    root=config[\"root\"], \n",
    "    subject_ids=subject_ids,\n",
    "    preprocessing_fn=preprocessing, # customize your own preprocessing\n",
    "    data_selection_fn=leave_one_subject_out, # customize your data selection function or use common ones from `data_selection_methods`\n",
    "    verbose=True,\n",
    "    selected_channels=config[\"selected_channels\"],\n",
    "    segment_config=config[\"segment_config\"],\n",
    "    bandpass_config=config[\"bandpass_config\"],\n",
    ")\n",
    "\n",
    "print('Final data shape', data.data.shape)\n",
    "print()\n",
    "\n",
    "train_loader, val_loader, test_loader = data.get_dataloaders(test_subject_id=1, batchsize=64)\n",
    "\n",
    "print(\"train_loader:\")\n",
    "print(train_loader.dataset.data.shape)\n",
    "print(train_loader.dataset.targets.shape)\n",
    "print(\"val_loader:\")\n",
    "print(val_loader.dataset.data.shape)\n",
    "print(val_loader.dataset.targets.shape)\n",
    "print(\"test_loader:\")\n",
    "print(test_loader.dataset.data.shape)\n",
    "print(test_loader.dataset.targets.shape)"
   ]
  },
  {
   "cell_type": "code",
   "execution_count": null,
   "metadata": {},
   "outputs": [],
   "source": []
  }
 ]
}